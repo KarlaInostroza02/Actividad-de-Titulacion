{
 "cells": [
  {
   "cell_type": "code",
   "execution_count": 1,
   "source": [
    "#Importamos el archivo desde amazon s3\r\n",
    "import pandas as pd\r\n",
    "\r\n",
    "df = pd.read_csv('aqui_ruta_a_bucket/df_fraude.csv')\r\n",
    "df['feature_5']=df['feature_5'].astype(object)"
   ],
   "outputs": [],
   "metadata": {}
  },
  {
   "cell_type": "code",
   "execution_count": 2,
   "source": [
    "df['target'].dtype"
   ],
   "outputs": [
    {
     "output_type": "execute_result",
     "data": {
      "text/plain": [
       "dtype('O')"
      ]
     },
     "metadata": {},
     "execution_count": 2
    }
   ],
   "metadata": {}
  },
  {
   "cell_type": "code",
   "execution_count": 3,
   "source": [
    "#importamos de nuestra libreria el modulo de separacion\r\n",
    "from preparimb.preparanding_data_set import separating_data_set\r\n",
    "\r\n",
    "#dividimos la data con una de las funciones de nuestra libreria.\r\n",
    "clase_separacion = separating_data_set.split_data_and_target()\r\n",
    "\r\n",
    "[X, y] = clase_separacion.fit(df, 'target')"
   ],
   "outputs": [],
   "metadata": {}
  },
  {
   "cell_type": "code",
   "execution_count": 4,
   "source": [
    "#cambiamos a numeros la variable target si esta es categorica, esto para utilizarla en la modelación de algoritmos.\r\n",
    "from sklearn.preprocessing import LabelEncoder\r\n",
    "import numpy as np\r\n",
    "label_enc = LabelEncoder()\r\n",
    "label_enc.fit(y.astype('str')) \r\n",
    "y_enc = np.array(label_enc.transform(y)) \r\n",
    "y_enc = pd.Series(y_enc, name='target')"
   ],
   "outputs": [],
   "metadata": {}
  },
  {
   "cell_type": "markdown",
   "source": [
    "## Modelación y evaluación de conjunto de datos originales"
   ],
   "metadata": {}
  },
  {
   "cell_type": "code",
   "execution_count": 5,
   "source": [
    "#por una actualización de la libreria sklearn debemos realizar esta tranformación ya que el modulo six \r\n",
    "#ya no es extensión de sklearn.\r\n",
    "import six\r\n",
    "import sys\r\n",
    "sys.modules['sklearn.externals.six'] = six\r\n",
    "import warnings\r\n",
    "warnings.filterwarnings('ignore')\r\n",
    "import time \r\n",
    "from sklearn.model_selection import train_test_split\r\n",
    "\r\n",
    "#Separar en conjunto train y test\r\n",
    "X_train, X_test, Y_train, Y_test =train_test_split(X, y_enc, test_size=0.5, random_state =123)"
   ],
   "outputs": [],
   "metadata": {}
  },
  {
   "cell_type": "code",
   "execution_count": 6,
   "source": [
    "import sklearn.naive_bayes\r\n",
    "import sklearn.svm._classes\r\n",
    "import sklearn.linear_model._logistic\r\n",
    "import sklearn.linear_model._perceptron\r\n",
    "import lazypredict"
   ],
   "outputs": [],
   "metadata": {}
  },
  {
   "cell_type": "code",
   "execution_count": 7,
   "source": [
    "from lazypredict.Supervised import LazyClassifier\r\n",
    "\r\n",
    "#Seleccionamos solo algunos algoritmos\r\n",
    "lazypredict.Supervised.CLASSIFIERS = [\r\n",
    "                                    ('BernoulliNB', sklearn.naive_bayes.BernoulliNB),\r\n",
    "                                    \r\n",
    "                                    ('LogisticRegression', sklearn.linear_model._logistic.LogisticRegression),\r\n",
    "                                    \r\n",
    "                                    ('Perceptron', sklearn.linear_model._perceptron.Perceptron),\r\n",
    "                                        \r\n",
    "                                    ('SVC', sklearn.svm._classes.SVC),\r\n",
    "    \r\n",
    "]\r\n"
   ],
   "outputs": [],
   "metadata": {}
  },
  {
   "cell_type": "code",
   "execution_count": 8,
   "source": [
    "classi = LazyClassifier(verbose=0, predictions=True)\r\n",
    "\r\n",
    "# ajustar y entrenar el modelo  \r\n",
    "start_time_1=time.time()\r\n",
    "models_c, predictions_c = classi.fit(X_train, X_test, Y_train, Y_test)\r\n",
    "end_time_1=time.time()"
   ],
   "outputs": [
    {
     "output_type": "stream",
     "name": "stderr",
     "text": [
      "100%|██████████| 4/4 [00:25<00:00,  5.70s/it]\n"
     ]
    }
   ],
   "metadata": {}
  },
  {
   "cell_type": "code",
   "execution_count": 9,
   "source": [
    "models_c"
   ],
   "outputs": [
    {
     "output_type": "execute_result",
     "data": {
      "text/html": [
       "<div>\n",
       "<style scoped>\n",
       "    .dataframe tbody tr th:only-of-type {\n",
       "        vertical-align: middle;\n",
       "    }\n",
       "\n",
       "    .dataframe tbody tr th {\n",
       "        vertical-align: top;\n",
       "    }\n",
       "\n",
       "    .dataframe thead th {\n",
       "        text-align: right;\n",
       "    }\n",
       "</style>\n",
       "<table border=\"1\" class=\"dataframe\">\n",
       "  <thead>\n",
       "    <tr style=\"text-align: right;\">\n",
       "      <th></th>\n",
       "      <th>Accuracy</th>\n",
       "      <th>Balanced Accuracy</th>\n",
       "      <th>ROC AUC</th>\n",
       "      <th>F1 Score</th>\n",
       "      <th>Time Taken</th>\n",
       "    </tr>\n",
       "    <tr>\n",
       "      <th>Model</th>\n",
       "      <th></th>\n",
       "      <th></th>\n",
       "      <th></th>\n",
       "      <th></th>\n",
       "      <th></th>\n",
       "    </tr>\n",
       "  </thead>\n",
       "  <tbody>\n",
       "    <tr>\n",
       "      <th>LogisticRegression</th>\n",
       "      <td>1.00</td>\n",
       "      <td>0.50</td>\n",
       "      <td>0.50</td>\n",
       "      <td>1.00</td>\n",
       "      <td>8.93</td>\n",
       "    </tr>\n",
       "    <tr>\n",
       "      <th>Perceptron</th>\n",
       "      <td>1.00</td>\n",
       "      <td>0.50</td>\n",
       "      <td>0.50</td>\n",
       "      <td>1.00</td>\n",
       "      <td>2.96</td>\n",
       "    </tr>\n",
       "    <tr>\n",
       "      <th>SVC</th>\n",
       "      <td>1.00</td>\n",
       "      <td>0.50</td>\n",
       "      <td>0.50</td>\n",
       "      <td>1.00</td>\n",
       "      <td>11.46</td>\n",
       "    </tr>\n",
       "    <tr>\n",
       "      <th>BernoulliNB</th>\n",
       "      <td>1.00</td>\n",
       "      <td>0.50</td>\n",
       "      <td>0.50</td>\n",
       "      <td>1.00</td>\n",
       "      <td>2.87</td>\n",
       "    </tr>\n",
       "  </tbody>\n",
       "</table>\n",
       "</div>"
      ],
      "text/plain": [
       "                    Accuracy  Balanced Accuracy  ROC AUC  F1 Score  Time Taken\n",
       "Model                                                                         \n",
       "LogisticRegression      1.00               0.50     0.50      1.00        8.23\n",
       "Perceptron              1.00               0.50     0.50      1.00        2.96\n",
       "SVC                     1.00               0.50     0.50      1.00        11.46\n",
       "BernoulliNB             1.00               0.50     0.50      1.00        2.87"
      ]
     },
     "metadata": {},
     "execution_count": 9
    }
   ],
   "metadata": {}
  },
  {
   "cell_type": "markdown",
   "source": [
    "## Coeficiente de correlación Matthews"
   ],
   "metadata": {}
  },
  {
   "cell_type": "code",
   "execution_count": 10,
   "source": [
    "#Ahora calculamos las metricas que han sido validada para conjuntos desbalanceados\r\n",
    "from pycm import *\r\n",
    "MCC = list()\r\n",
    "\r\n",
    "for i in list(predictions_c.columns):\r\n",
    "    cm = ConfusionMatrix(list(Y_test), list(predictions_c[i]))\r\n",
    "    MCC.append(list((cm.MCC).values())[0])\r\n",
    "\r\n",
    "model_metrics_study = pd.DataFrame(\r\n",
    "                {\r\n",
    "                    \"Model\": list(predictions_c.columns),\r\n",
    "                    \"Matthews correlation coefficient\": MCC\r\n",
    "                }\r\n",
    "            )\r\n",
    "\r\n",
    "model_metrics_study "
   ],
   "outputs": [
    {
     "output_type": "execute_result",
     "data": {
      "text/html": [
       "<div>\n",
       "<style scoped>\n",
       "    .dataframe tbody tr th:only-of-type {\n",
       "        vertical-align: middle;\n",
       "    }\n",
       "\n",
       "    .dataframe tbody tr th {\n",
       "        vertical-align: top;\n",
       "    }\n",
       "\n",
       "    .dataframe thead th {\n",
       "        text-align: right;\n",
       "    }\n",
       "</style>\n",
       "<table border=\"1\" class=\"dataframe\">\n",
       "  <thead>\n",
       "    <tr style=\"text-align: right;\">\n",
       "      <th></th>\n",
       "      <th>Model</th>\n",
       "      <th>Matthews correlation coefficient</th>\n",
       "    </tr>\n",
       "  </thead>\n",
       "  <tbody>\n",
       "    <tr>\n",
       "      <th>0</th>\n",
       "      <td>BernoulliNB</td>\n",
       "      <td>-0.00</td>\n",
       "    </tr>\n",
       "    <tr>\n",
       "      <th>1</th>\n",
       "      <td>LogisticRegression</td>\n",
       "      <td>None</td>\n",
       "    </tr>\n",
       "    <tr>\n",
       "      <th>2</th>\n",
       "      <td>Perceptron</td>\n",
       "      <td>None</td>\n",
       "    </tr>\n",
       "    <tr>\n",
       "      <th>3</th>\n",
       "      <td>SVC</td>\n",
       "      <td>None</td>\n",
       "    </tr>\n",
       "  </tbody>\n",
       "</table>\n",
       "</div>"
      ],
      "text/plain": [
       "                Model Matthews correlation coefficient\n",
       "0         BernoulliNB                            -0.00\n",
       "1  LogisticRegression                             None\n",
       "2          Perceptron                             None\n",
       "3                 SVC                             None"
      ]
     },
     "metadata": {},
     "execution_count": 10
    }
   ],
   "metadata": {}
  },
  {
   "cell_type": "markdown",
   "source": [
    "# Utilizando modulo de balanceo"
   ],
   "metadata": {}
  },
  {
   "cell_type": "code",
   "execution_count": 11,
   "source": [
    "#Como esta claramente desbalanceado, utilizaremos el modulo para balancear.\r\n",
    "from preparimb.preparanding_data_set import balancing_data_set\r\n",
    "\r\n",
    "balancing_prueba = balancing_data_set.balance_target()\r\n",
    "[x_balan, y_balan] = balancing_prueba.fit_balance(df, 'target')\r\n"
   ],
   "outputs": [
    {
     "output_type": "display_data",
     "data": {
      "image/png": "[encoded data removed]",
      "text/plain": [
       "<Figure size 720x576 with 1 Axes>"
      ]
     },
     "metadata": {}
    },
    {
     "output_type": "display_data",
     "data": {
      "image/png": "[encoded data removed]",
      "text/plain": [
       "<Figure size 720x576 with 1 Axes>"
      ]
     },
     "metadata": {}
    }
   ],
   "metadata": {}
  },
  {
   "cell_type": "code",
   "execution_count": 12,
   "source": [
    "y_balan.dtype"
   ],
   "outputs": [
    {
     "output_type": "execute_result",
     "data": {
      "text/plain": [
       "dtype('O')"
      ]
     },
     "metadata": {},
     "execution_count": 12
    }
   ],
   "metadata": {}
  },
  {
   "cell_type": "code",
   "execution_count": 13,
   "source": [
    "#Para la modelacion debemos cambiar a numerico el target, esto para la metrica ROC AUC\r\n",
    "label_enc = LabelEncoder()\r\n",
    "label_enc.fit(y_balan.astype('str')) \r\n",
    "targetbalan = np.array(label_enc.transform(y_balan)) \r\n",
    "targetbalan = pd.Series(targetbalan, name='target')"
   ],
   "outputs": [],
   "metadata": {}
  },
  {
   "cell_type": "markdown",
   "source": [
    "## Modelación y evaluación de conjunto de datos balanceados"
   ],
   "metadata": {}
  },
  {
   "cell_type": "code",
   "execution_count": 14,
   "source": [
    "#Dividimos el conjunto balanceado en entrenamiento, prueba y validacion.\r\n",
    "X_train_balan, X_test_balan, Y_train_balan, Y_test_balan =train_test_split(x_balan, targetbalan, test_size=0.5, random_state = 123)"
   ],
   "outputs": [],
   "metadata": {}
  },
  {
   "cell_type": "code",
   "execution_count": 15,
   "source": [
    "lazypredict.Supervised.CLASSIFIERS"
   ],
   "outputs": [
    {
     "output_type": "execute_result",
     "data": {
      "text/plain": [
       "[('BernoulliNB', sklearn.naive_bayes.BernoulliNB),\n",
       " ('LogisticRegression', sklearn.linear_model._logistic.LogisticRegression),\n",
       " ('Perceptron', sklearn.linear_model._perceptron.Perceptron),\n",
       " ('SVC', sklearn.svm._classes.SVC)]"
      ]
     },
     "metadata": {},
     "execution_count": 15
    }
   ],
   "metadata": {}
  },
  {
   "cell_type": "code",
   "execution_count": 16,
   "source": [
    "classi_balan =LazyClassifier(verbose=0, predictions=True)\r\n",
    "\r\n",
    "# ajustar y entrenar el modelo  \r\n",
    "start_time_balan=time.time()\r\n",
    "models_balan, predictions_balan= classi_balan.fit(X_train_balan, X_test_balan, Y_train_balan, Y_test_balan)\r\n",
    "end_time_balan=time.time()"
   ],
   "outputs": [
    {
     "output_type": "stream",
     "name": "stderr",
     "text": [
      "100%|██████████| 4/4 [6:21:30<00:00, 8492.95s/it] \n"
     ]
    }
   ],
   "metadata": {}
  },
  {
   "cell_type": "code",
   "execution_count": 18,
   "source": [
    "models_balan"
   ],
   "outputs": [
    {
     "output_type": "execute_result",
     "data": {
      "text/html": [
       "<div>\n",
       "<style scoped>\n",
       "    .dataframe tbody tr th:only-of-type {\n",
       "        vertical-align: middle;\n",
       "    }\n",
       "\n",
       "    .dataframe tbody tr th {\n",
       "        vertical-align: top;\n",
       "    }\n",
       "\n",
       "    .dataframe thead th {\n",
       "        text-align: right;\n",
       "    }\n",
       "</style>\n",
       "<table border=\"1\" class=\"dataframe\">\n",
       "  <thead>\n",
       "    <tr style=\"text-align: right;\">\n",
       "      <th></th>\n",
       "      <th>Accuracy</th>\n",
       "      <th>Balanced Accuracy</th>\n",
       "      <th>ROC AUC</th>\n",
       "      <th>F1 Score</th>\n",
       "      <th>Time Taken</th>\n",
       "    </tr>\n",
       "    <tr>\n",
       "      <th>Model</th>\n",
       "      <th></th>\n",
       "      <th></th>\n",
       "      <th></th>\n",
       "      <th></th>\n",
       "      <th></th>\n",
       "    </tr>\n",
       "  </thead>\n",
       "  <tbody>\n",
       "    <tr>\n",
       "      <th>SVC</th>\n",
       "      <td>0.91</td>\n",
       "      <td>0.89</td>\n",
       "      <td>0.89</td>\n",
       "      <td>0.91</td>\n",
       "      <td>22869.25</td>\n",
       "    </tr>\n",
       "    <tr>\n",
       "      <th>BernoulliNB</th>\n",
       "      <td>0.88</td>\n",
       "      <td>0.84</td>\n",
       "      <td>0.84</td>\n",
       "      <td>0.88</td>\n",
       "      <td>4.68</td>\n",
       "    </tr>\n",
       "    <tr>\n",
       "      <th>LogisticRegression</th>\n",
       "      <td>0.87</td>\n",
       "      <td>0.84</td>\n",
       "      <td>0.84</td>\n",
       "      <td>0.87</td>\n",
       "      <td>11.77</td>\n",
       "    </tr>\n",
       "    <tr>\n",
       "      <th>Perceptron</th>\n",
       "      <td>0.74</td>\n",
       "      <td>0.81</td>\n",
       "      <td>0.75</td>\n",
       "      <td>0.50</td>\n",
       "      <td>4.72</td>\n",
       "    </tr>\n",
       "  </tbody>\n",
       "</table>\n",
       "</div>"
      ],
      "text/plain": [
       "                    Accuracy  Balanced Accuracy  ROC AUC  F1 Score  Time Taken\n",
       "Model                                                                         \n",
       "SVC                     0.91               0.89     0.89      0.91    22869.25\n",
       "BernoulliNB             0.88               0.84     0.84      0.84        4.68\n",
       "LogisticRegression      0.87               0.84     0.84      0.87       11.77\n",
       "Perceptron              0.74               0.81     0.75      0.50        4.72"
      ]
     },
     "metadata": {},
     "execution_count": 18
    }
   ],
   "metadata": {}
  },
  {
   "cell_type": "markdown",
   "source": [
    "## Métricas estudiadas en datos balanceados"
   ],
   "metadata": {}
  },
  {
   "cell_type": "code",
   "execution_count": 17,
   "source": [
    "MCC_balan = list()\r\n",
    "\r\n",
    "for i in list(predictions_balan.columns):\r\n",
    "    cm = ConfusionMatrix(list(Y_test_balan), list(predictions_balan[i]))\r\n",
    "    MCC_balan.append(list((cm.MCC).values())[0])\r\n",
    "    \r\n",
    "    \r\n",
    "model_metrics_Study_balan = pd.DataFrame(\r\n",
    "                {\r\n",
    "                    \"Model\": list(predictions_balan.columns),\r\n",
    "                    \"Matthews correlation coefficient\": MCC_balan\r\n",
    "                }\r\n",
    "            )\r\n",
    "\r\n",
    "model_metrics_Study_balan"
   ],
   "outputs": [
    {
     "output_type": "execute_result",
     "data": {
      "text/html": [
       "<div>\n",
       "<style scoped>\n",
       "    .dataframe tbody tr th:only-of-type {\n",
       "        vertical-align: middle;\n",
       "    }\n",
       "\n",
       "    .dataframe tbody tr th {\n",
       "        vertical-align: top;\n",
       "    }\n",
       "\n",
       "    .dataframe thead th {\n",
       "        text-align: right;\n",
       "    }\n",
       "</style>\n",
       "<table border=\"1\" class=\"dataframe\">\n",
       "  <thead>\n",
       "    <tr style=\"text-align: right;\">\n",
       "      <th></th>\n",
       "      <th>Model</th>\n",
       "      <th>Matthews correlation coefficient</th>\n",
       "    </tr>\n",
       "  </thead>\n",
       "  <tbody>\n",
       "    <tr>\n",
       "      <th>0</th>\n",
       "      <td>BernoulliNB</td>\n",
       "      <td>0.73</td>\n",
       "    </tr>\n",
       "    <tr>\n",
       "      <th>1</th>\n",
       "      <td>LogisticRegression</td>\n",
       "      <td>0.70</td>\n",
       "    </tr>\n",
       "    <tr>\n",
       "      <th>2</th>\n",
       "      <td>Perceptron</td>\n",
       "      <td>0.59</td>\n",
       "    </tr>\n",
       "    <tr>\n",
       "      <th>3</th>\n",
       "      <td>SVC</td>\n",
       "      <td>0.80</td>\n",
       "    </tr>\n",
       "  </tbody>\n",
       "</table>\n",
       "</div>"
      ],
      "text/plain": [
       "                Model  Matthews correlation coefficient\n",
       "0         BernoulliNB                              0.73\n",
       "1  LogisticRegression                              0.70\n",
       "2          Perceptron                              0.59\n",
       "3                 SVC                              0.80"
      ]
     },
     "metadata": {},
     "execution_count": 17
    }
   ],
   "metadata": {}
  }
 ],
 "metadata": {
  "kernelspec": {
   "display_name": "conda_python3",
   "language": "python",
   "name": "conda_python3"
  },
  "language_info": {
   "codemirror_mode": {
    "name": "ipython",
    "version": 3
   },
   "file_extension": ".py",
   "mimetype": "text/x-python",
   "name": "python",
   "nbconvert_exporter": "python",
   "pygments_lexer": "ipython3",
   "version": "3.6.13"
  }
 },
 "nbformat": 4,
 "nbformat_minor": 5
}
